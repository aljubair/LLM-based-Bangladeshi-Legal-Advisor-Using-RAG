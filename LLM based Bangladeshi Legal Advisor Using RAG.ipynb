{
 "cells": [
  {
   "cell_type": "code",
   "execution_count": 1,
   "id": "b2c60f10",
   "metadata": {},
   "outputs": [],
   "source": [
    "from langchain_community.document_loaders import UnstructuredPDFLoader\n",
    "from langchain_community.document_loaders import OnlinePDFLoader"
   ]
  },
  {
   "cell_type": "code",
   "execution_count": 3,
   "id": "cb9c3b52",
   "metadata": {},
   "outputs": [],
   "source": [
    "import fitz  # PyMuPDF\n",
    "\n",
    "def load_pdf(file_path):\n",
    "    \"\"\"Load a PDF file and return its content page by page.\"\"\"\n",
    "    try:\n",
    "        # Open the PDF file\n",
    "        doc = fitz.open(file_path)\n",
    "        content = []\n",
    "        \n",
    "        # Iterate through the pages\n",
    "        for page_num in range(len(doc)):\n",
    "            page = doc.load_page(page_num)  # Load each page\n",
    "            text = page.get_text()  # Extract text from the page\n",
    "            content.append(text)\n",
    "        \n",
    "        doc.close()\n",
    "        return content\n",
    "    \n",
    "    except Exception as e:\n",
    "        print(f\"An error occurred: {e}\")\n",
    "        return None\n"
   ]
  },
  {
   "cell_type": "code",
   "execution_count": 4,
   "id": "26c40970",
   "metadata": {},
   "outputs": [],
   "source": [
    "local_path = \"act-print-11-BD.pdf\"\n",
    "data = load_pdf(local_path)"
   ]
  },
  {
   "cell_type": "code",
   "execution_count": 5,
   "id": "25d948cc",
   "metadata": {},
   "outputs": [],
   "source": [
    "from langchain_community.embeddings import OllamaEmbeddings\n",
    "from langchain_text_splitters import RecursiveCharacterTextSplitter\n",
    "from langchain_community.vectorstores import Chroma"
   ]
  },
  {
   "cell_type": "code",
   "execution_count": 7,
   "id": "da38e6d3",
   "metadata": {},
   "outputs": [],
   "source": [
    "# Split and chunk \n",
    "text_splitter = RecursiveCharacterTextSplitter(chunk_size=7500, chunk_overlap=100)\n",
    "chunks = text_splitter.create_documents(data)"
   ]
  },
  {
   "cell_type": "code",
   "execution_count": 8,
   "id": "3e1062de",
   "metadata": {},
   "outputs": [
    {
     "name": "stderr",
     "output_type": "stream",
     "text": [
      "OllamaEmbeddings: 100%|██████████████████████████████████████████████████████████████| 200/200 [07:32<00:00,  2.26s/it]\n"
     ]
    }
   ],
   "source": [
    "# Add to vector database\n",
    "vector_db = Chroma.from_documents(\n",
    "    documents=chunks, \n",
    "    embedding=OllamaEmbeddings(model=\"nomic-embed-text\",show_progress=True),\n",
    "    collection_name=\"local-rag\"\n",
    ")"
   ]
  },
  {
   "cell_type": "code",
   "execution_count": 9,
   "id": "78fee8a9",
   "metadata": {},
   "outputs": [],
   "source": [
    "from langchain.prompts import ChatPromptTemplate, PromptTemplate\n",
    "from langchain_core.output_parsers import StrOutputParser\n",
    "from langchain_community.chat_models import ChatOllama\n",
    "from langchain_core.runnables import RunnablePassthrough\n",
    "from langchain.retrievers.multi_query import MultiQueryRetriever"
   ]
  },
  {
   "cell_type": "code",
   "execution_count": 22,
   "id": "396ef90d",
   "metadata": {},
   "outputs": [],
   "source": [
    "# LLM from Ollama\n",
    "local_model = \"mistral\"\n",
    "llm = ChatOllama(model=local_model)"
   ]
  },
  {
   "cell_type": "code",
   "execution_count": 23,
   "id": "e46c7314",
   "metadata": {},
   "outputs": [],
   "source": [
    "QUERY_PROMPT = PromptTemplate(\n",
    "    input_variables=[\"question\"],\n",
    "    template=\"\"\"You are an AI language model assistant. Your task is to generate five\n",
    "    different versions of the given user question to retrieve relevant documents from\n",
    "    a vector database. By generating multiple perspectives on the user question, your\n",
    "    goal is to help the user overcome some of the limitations of the distance-based\n",
    "    similarity search. Provide these alternative questions separated by newlines.\n",
    "    Original question: {question}\"\"\",\n",
    ")"
   ]
  },
  {
   "cell_type": "code",
   "execution_count": 24,
   "id": "faa15b7b",
   "metadata": {},
   "outputs": [],
   "source": [
    "retriever = MultiQueryRetriever.from_llm(\n",
    "    vector_db.as_retriever(), \n",
    "    llm,\n",
    "    prompt=QUERY_PROMPT\n",
    ")\n",
    "\n",
    "# RAG prompt\n",
    "template = \"\"\"Answer the question based ONLY on the following context:\n",
    "{context}\n",
    "Question: {question}\n",
    "\"\"\"\n",
    "\n",
    "prompt = ChatPromptTemplate.from_template(template)"
   ]
  },
  {
   "cell_type": "code",
   "execution_count": 25,
   "id": "49eb3deb",
   "metadata": {},
   "outputs": [],
   "source": [
    "chain = (\n",
    "    {\"context\": retriever, \"question\": RunnablePassthrough()}\n",
    "    | prompt\n",
    "    | llm\n",
    "    | StrOutputParser()\n",
    ")"
   ]
  },
  {
   "cell_type": "code",
   "execution_count": 26,
   "id": "3a2a8999",
   "metadata": {},
   "outputs": [
    {
     "name": "stdout",
     "output_type": "stream",
     "text": [
      "ollama pull mistral\n"
     ]
    },
    {
     "name": "stderr",
     "output_type": "stream",
     "text": [
      "OllamaEmbeddings: 100%|██████████████████████████████████████████████████████████████████| 1/1 [00:09<00:00,  9.18s/it]\n",
      "OllamaEmbeddings: 100%|██████████████████████████████████████████████████████████████████| 1/1 [00:02<00:00,  2.10s/it]\n",
      "OllamaEmbeddings: 100%|██████████████████████████████████████████████████████████████████| 1/1 [00:02<00:00,  2.09s/it]\n",
      "OllamaEmbeddings: 100%|██████████████████████████████████████████████████████████████████| 1/1 [00:02<00:00,  2.09s/it]\n",
      "OllamaEmbeddings: 100%|██████████████████████████████████████████████████████████████████| 1/1 [00:02<00:00,  2.09s/it]\n"
     ]
    },
    {
     "data": {
      "text/plain": [
       "' The text provided appears to be excerpts from The Penal Code, 1860 of Bangladesh and the Indian Penal Code (IPC). They discuss the definitions and explanations for theft and marriage-related offenses.\\n\\nIn the context of your question \"ollama pull mistral\", it seems unclear how this phrase relates to the provided text. If you are asking about the definition of theft or related terms in the text, here\\'s a summary:\\n\\n* Theft is defined as dishonestly moving something capable of being moved with the intention of permanently depriving the owner of it without their consent.\\n* Explanation 1 mentions that anything attached to the earth is not subject to theft until it is severed from the earth.\\n* Explanation 2 states that if the same act causes both severance and movement, it can be considered theft.\\n* Explanation 3 explains that a person can cause an item to move by removing an obstacle or separating it from another thing.\\n* Explanation 4 notes that if a person causes an animal to move, they are said to move the animal and whatever is moved as a result.\\n* Explanation 5 mentions that theft requires dishonest intention and can be either expressly or impliedly consented to.\\n\\nThe other texts discuss marriage-related offenses such as bigamy (marrying again during the lifetime of a spouse) and living in false belief of being married (cohabiting or having sexual intercourse with someone while believing that they are lawfully married).'"
      ]
     },
     "execution_count": 26,
     "metadata": {},
     "output_type": "execute_result"
    }
   ],
   "source": [
    "chain.invoke(input(\"\"))"
   ]
  },
  {
   "cell_type": "code",
   "execution_count": 27,
   "id": "1eb0f845",
   "metadata": {},
   "outputs": [
    {
     "name": "stderr",
     "output_type": "stream",
     "text": [
      "OllamaEmbeddings: 100%|██████████████████████████████████████████████████████████████████| 1/1 [00:09<00:00,  9.02s/it]\n",
      "OllamaEmbeddings: 100%|██████████████████████████████████████████████████████████████████| 1/1 [00:02<00:00,  2.12s/it]\n",
      "OllamaEmbeddings: 100%|██████████████████████████████████████████████████████████████████| 1/1 [00:02<00:00,  2.12s/it]\n",
      "OllamaEmbeddings: 100%|██████████████████████████████████████████████████████████████████| 1/1 [00:02<00:00,  2.12s/it]\n",
      "OllamaEmbeddings: 100%|██████████████████████████████████████████████████████████████████| 1/1 [00:02<00:00,  2.11s/it]\n"
     ]
    },
    {
     "data": {
      "text/plain": [
       "' The provided text does not directly answer your question about the meaning of \"Government.\" However, it discusses a section of the Penal Code 1860 which describes an offense related to bribery in public service. Therefore, I will provide you with the definition of Government based on a separate source.\\n\\n   The term \"Government\" can refer to several meanings:\\n\\n   1. A political system in which power is concentrated in a group or individual who make decisions and exercise authority over a population or territory.\\n\\n   2. The administrative body that governs a country, state, or region, made up of elected or appointed officials.\\n\\n   3. In a broader context, it can also refer to the institutions through which a community organizes itself for collective decision-making and the enforcement of shared norms and values.'"
      ]
     },
     "execution_count": 27,
     "metadata": {},
     "output_type": "execute_result"
    }
   ],
   "source": [
    "chain.invoke(\"What is the meaning of Governmant?\")"
   ]
  },
  {
   "cell_type": "code",
   "execution_count": 28,
   "id": "554d29be",
   "metadata": {},
   "outputs": [
    {
     "name": "stderr",
     "output_type": "stream",
     "text": [
      "OllamaEmbeddings: 100%|██████████████████████████████████████████████████████████████████| 1/1 [00:08<00:00,  8.37s/it]\n",
      "OllamaEmbeddings: 100%|██████████████████████████████████████████████████████████████████| 1/1 [00:02<00:00,  2.09s/it]\n",
      "OllamaEmbeddings: 100%|██████████████████████████████████████████████████████████████████| 1/1 [00:02<00:00,  2.11s/it]\n",
      "OllamaEmbeddings: 100%|██████████████████████████████████████████████████████████████████| 1/1 [00:02<00:00,  2.09s/it]\n",
      "OllamaEmbeddings: 100%|██████████████████████████████████████████████████████████████████| 1/1 [00:02<00:00,  2.09s/it]\n"
     ]
    },
    {
     "data": {
      "text/plain": [
       "' The Penal Code does not explicitly state the punishment for killing a person in the provided text. However, it is evident that certain acts causing death can be considered offenses if they are intended to cause death or if death is a foreseeable consequence and the act is not done in good faith for the benefit of another person. The severity of the punishment depends on the specific offense under the Code and whether it is punishable with imprisonment for a term of six months or upwards, as mentioned in the explanatory notes of sections 141, 176, 177, 201, 202, 212, 216, and 441. For more detailed information on the specific punishments for various offenses under the Penal Code, please refer to the original legislation or consult a legal professional.'"
      ]
     },
     "execution_count": 28,
     "metadata": {},
     "output_type": "execute_result"
    }
   ],
   "source": [
    "chain.invoke(\"What will be the punishment for killing a person?\")"
   ]
  },
  {
   "cell_type": "code",
   "execution_count": null,
   "id": "2407e6f3",
   "metadata": {},
   "outputs": [],
   "source": [
    "vector_db.delete_collection()"
   ]
  }
 ],
 "metadata": {
  "kernelspec": {
   "display_name": "py",
   "language": "python",
   "name": "py"
  },
  "language_info": {
   "codemirror_mode": {
    "name": "ipython",
    "version": 3
   },
   "file_extension": ".py",
   "mimetype": "text/x-python",
   "name": "python",
   "nbconvert_exporter": "python",
   "pygments_lexer": "ipython3",
   "version": "3.11.9"
  }
 },
 "nbformat": 4,
 "nbformat_minor": 5
}
